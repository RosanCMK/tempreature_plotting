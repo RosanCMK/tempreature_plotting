{
 "cells": [
  {
   "cell_type": "code",
   "execution_count": 1,
   "metadata": {},
   "outputs": [],
   "source": [
    "import pytest\n",
    "import temperature_plotting as tpl"
   ]
  },
  {
   "cell_type": "code",
   "execution_count": 2,
   "metadata": {},
   "outputs": [],
   "source": [
    "def test_compute_mean():\n",
    "    calc = tpl.compute_mean([0, 10, 20])\n",
    "    assert calc == 10\n",
    "    assert type(calc) == float\n",
    "\n",
    "    calc = tpl.compute_mean([-10, 10])\n",
    "    assert calc == 0\n",
    "\n",
    "    calc = tpl.compute_mean([0, 10, 0])\n",
    "    assert round(calc, 4) == 3.3333, \"Check that the average is roughly correct\"\n",
    "\n",
    "    with pytest.raises(TypeError):\n",
    "        calc = tpl.compute_mean([\"a\", \"b\", \"c\"])\n",
    "    \n",
    "    calc = tpl.compute_mean([])\n",
    "    assert calc == None\n",
    "\n",
    "\n",
    "test_compute_mean()"
   ]
  },
  {
   "cell_type": "code",
   "execution_count": 3,
   "metadata": {},
   "outputs": [],
   "source": [
    "def create_name(num):\n",
    "    \"\"\"Create a name for an outputfile\n",
    "\n",
    "    Args:\n",
    "        num (int): Number that identifies the type of run\n",
    "\n",
    "    Returns:\n",
    "        str: A name for a png file\n",
    "    \"\"\"\n",
    "    if type(num) != int:\n",
    "        return None\n",
    "    else:\n",
    "        return f\"plot_{str(num)}.png\"\n"
   ]
  },
  {
   "cell_type": "code",
   "execution_count": 8,
   "metadata": {},
   "outputs": [],
   "source": [
    "def create_name(num):\n",
    "    \"\"\"Create a name for an outputfile\n",
    "\n",
    "    Args:\n",
    "        num (int): Number that identifies the type of run\n",
    "\n",
    "    Returns:\n",
    "        str: A name for a png file\n",
    "    \"\"\"\n",
    "    if type(num) != int:\n",
    "        print(\"Input should be of type int\")\n",
    "        return None\n",
    "    else:\n",
    "        return f\"plot_{str(num)}.png\"\n",
    "\n",
    "\n",
    "def test_create_name():\n",
    "    result = tpl.create_name(1)\n",
    "    assert result == \"plot_1.png\"\n",
    "\n",
    "    result = tpl.create_name(-1)\n",
    "    assert result == \"plot_-1.png\"\n",
    "\n",
    "    result = tpl.create_name(\"test\")\n",
    "    assert result == None\n",
    "\n",
    "test_create_name()\n"
   ]
  },
  {
   "cell_type": "code",
   "execution_count": null,
   "metadata": {},
   "outputs": [],
   "source": []
  },
  {
   "cell_type": "code",
   "execution_count": null,
   "metadata": {},
   "outputs": [],
   "source": []
  }
 ],
 "metadata": {
  "kernelspec": {
   "display_name": "base",
   "language": "python",
   "name": "python3"
  },
  "language_info": {
   "codemirror_mode": {
    "name": "ipython",
    "version": 3
   },
   "file_extension": ".py",
   "mimetype": "text/x-python",
   "name": "python",
   "nbconvert_exporter": "python",
   "pygments_lexer": "ipython3",
   "version": "3.8.3"
  },
  "orig_nbformat": 4,
  "vscode": {
   "interpreter": {
    "hash": "27516f92829efa96c247229d0125dfc7877edd8ccec868d9ec72b4775b18f1f2"
   }
  }
 },
 "nbformat": 4,
 "nbformat_minor": 2
}
